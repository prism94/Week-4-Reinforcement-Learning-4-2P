{
 "cells": [
  {
   "cell_type": "code",
   "execution_count": 1,
   "metadata": {
    "id": "EJvZFToZeV_x"
   },
   "outputs": [],
   "source": [
    "import sys\n",
    "import gym\n",
    "import numpy as np\n",
    "import random\n",
    "from collections import defaultdict"
   ]
  },
  {
   "cell_type": "code",
   "execution_count": 2,
   "metadata": {
    "id": "DXIy0e0DemmX"
   },
   "outputs": [],
   "source": [
    "env = gym.make('Blackjack-v0')"
   ]
  },
  {
   "cell_type": "code",
   "execution_count": 3,
   "metadata": {
    "id": "ONyh1MjR7tMq"
   },
   "outputs": [],
   "source": [
    "def get_probs(Q_s, epsilon, nA): #nA is no. of actions in the action space\n",
    "    # obtains the action probabilities corresponding to epsilon-greedy policy\n",
    "    policy_s = np.ones(nA) * epsilon / nA\n",
    "    best_a = np.argmax(Q_s)\n",
    "    policy_s[best_a] = 1 - epsilon + (epsilon / nA)\n",
    "    return policy_s\n",
    "  \n",
    "''' \n",
    "Now we will use this get_probs func in generating the episode. \n",
    "Note that we are no longer using the stochastic policy we started with, instead building upon it in an epsilon greedy way.\n",
    "'''\n",
    "def generate_episode_from_Q(env, Q, epsilon, nA):\n",
    "    # generates an episode from following the epsilon-greedy policy\n",
    "    episode = []\n",
    "    state = env.reset()\n",
    "    while True:\n",
    "        action = np.random.choice(np.arange(nA), p=get_probs(Q[state], epsilon, nA)) \\\n",
    "                                    if state in Q else env.action_space.sample()\n",
    "        next_state, reward, done, info = env.step(action)\n",
    "        episode.append((state, action, reward))\n",
    "        state = next_state\n",
    "        if done:\n",
    "            break\n",
    "    return episode\n",
    "\n",
    "''' \n",
    "Finally Q values are approximated by taking average of corresponding returns.\n",
    "But instead we can write it using incremental mean and constant alpha.\n",
    "As we are using constant alpha we need not keep a track of N-table, ie how many times we visited that state.\n",
    "''' \n",
    "\n",
    "def update_Q(env, episode, Q, alpha, gamma):\n",
    "    # updates the action-value function estimate using the most recent episode \n",
    "    states, actions, rewards = zip(*episode)\n",
    "    # prepare for discounting\n",
    "    discounts = np.array([gamma**i for i in range(len(rewards)+1)])\n",
    "    for i, state in enumerate(states):\n",
    "        old_Q = Q[state][actions[i]] \n",
    "        Q[state][actions[i]] = old_Q + alpha*(sum(rewards[i:]*discounts[:-(1+i)]) - old_Q)\n",
    "    return Q"
   ]
  },
  {
   "cell_type": "code",
   "execution_count": 4,
   "metadata": {
    "id": "zgaIRefme4z_"
   },
   "outputs": [],
   "source": [
    "def ori_policy_implementation(Q, policy, iter):\n",
    "    rewards = []\n",
    "    nA=env.action_space.n\n",
    "    for i_episode in range(iter):\n",
    "        state = env.reset()\n",
    "        while True:\n",
    "            action = np.random.choice(np.arange(nA), p=get_probs(Q[state], 0, nA)) \\\n",
    "                                        if state in Q else env.action_space.sample()\n",
    "            next_state, reward, done, info = env.step(action)\n",
    "            state = next_state\n",
    "            rewards.append(reward)\n",
    "            if done:\n",
    "                break\n",
    "\n",
    "    return rewards"
   ]
  },
  {
   "cell_type": "code",
   "execution_count": 5,
   "metadata": {
    "id": "uqFDeMpo_dPc"
   },
   "outputs": [],
   "source": [
    "def mc_control(env, num_episodes, alpha, gamma=1.0, eps_start=1.0, eps_decay=.99999, eps_min=0.05):\n",
    "    nA = env.action_space.n\n",
    "    # initialize empty dictionary of arrays\n",
    "    Q = defaultdict(lambda: np.zeros(nA))\n",
    "    epsilon = eps_start\n",
    "\n",
    "    ep_rewards = []\n",
    "    avg = 0\n",
    "    count = 0\n",
    "\n",
    "    # loop over episodes\n",
    "    for i_episode in range(1, num_episodes+1):\n",
    "        # monitor progress\n",
    "        if i_episode % 1000 == 0:\n",
    "            print(\"\\rEpisode {}/{}.\".format(i_episode, num_episodes), end=\"\")\n",
    "            sys.stdout.flush()\n",
    "        # set the value of epsilon\n",
    "        epsilon = max(epsilon*eps_decay, eps_min)\n",
    "        # generate an episode by following epsilon-greedy policy\n",
    "        episode = generate_episode_from_Q(env, Q, epsilon, nA)\n",
    "        # update the action-value function estimate using the episode\n",
    "        Q = update_Q(env, episode, Q, alpha, gamma)\n",
    "        # determine the policy corresponding to the final action-value function estimate\n",
    "        policy = dict((k,np.argmax(v)) for k, v in Q.items())\n",
    "        \n",
    "        ep_reward = ori_policy_implementation(Q, policy, 5)\n",
    "\n",
    "        if len(ep_reward) > 0:\n",
    "            count += 1\n",
    "            avg += (1/count)*(np.array(ep_reward).mean() - avg)\n",
    "            ep_rewards.append(avg)\n",
    "        else:\n",
    "            ep_rewards.append(avg)\n",
    "            \n",
    "    \n",
    "    return policy, Q, ep_rewards"
   ]
  },
  {
   "cell_type": "code",
   "execution_count": 6,
   "metadata": {
    "id": "9y81SXAuqEXi"
   },
   "outputs": [],
   "source": [
    "def episodes_off_policy(env):\n",
    "\n",
    "    nA = env.action_space.n\n",
    "    probs = np.array([1/nA for _ in range(nA)])\n",
    "\n",
    "    e = []\n",
    "    s = env.reset()\n",
    "\n",
    "    while True:\n",
    "        action = np.random.choice(np.arange(nA), p = probs)\n",
    "        \n",
    "        next, r, d, _ = env.step(action)\n",
    "        e.append((s, action, r))\n",
    "        s = next\n",
    "        if d:\n",
    "          break\n",
    "    \n",
    "    return e"
   ]
  },
  {
   "cell_type": "code",
   "execution_count": 7,
   "metadata": {
    "id": "8WdKU9Z7FutE"
   },
   "outputs": [],
   "source": [
    "def off_policy_implementation(Q, policy, iter):\n",
    "    nA=env.action_space.n\n",
    "    r = []\n",
    "    for i_episode in range(iter):\n",
    "        state = env.reset()\n",
    "        while True:\n",
    "            if state in policy:\n",
    "                action = policy[state]\n",
    "            else:\n",
    "                action = np.random.choice(np.arange(nA))\n",
    "            next_state, reward, done, info = env.step(action)\n",
    "            state = next_state\n",
    "            if done:\n",
    "                break\n",
    "        r.append(reward)\n",
    "    return r"
   ]
  },
  {
   "cell_type": "code",
   "execution_count": 8,
   "metadata": {
    "id": "53xIsgTkeBeA"
   },
   "outputs": [],
   "source": [
    "def mc_control_off_policy(env, num_episodes, gamma=1.0, eps_start=1.0, eps_decay=.99999, eps_min=0.05):\n",
    "\n",
    "    nA = env.action_space.n\n",
    "    Q = {}\n",
    "    C = {}\n",
    "    epsilon = eps_start\n",
    "\n",
    "    rewards_list = []\n",
    "    avg = 0\n",
    "\n",
    "    for i in range(num_episodes):\n",
    "\n",
    "        if i % 1000 == 0:\n",
    "            print(\"\\rEpisode {}/{}.\".format(i, num_episodes), end=\"\")\n",
    "            sys.stdout.flush()\n",
    "        \n",
    "        episode = episodes_off_policy(env)\n",
    "        \n",
    "        W = 1\n",
    "        G = 0\n",
    "\n",
    "        for ep in episode:\n",
    "            state, action, reward = ep\n",
    "\n",
    "            G = gamma*G + reward\n",
    "\n",
    "            if state not in Q:\n",
    "                Q[state] = np.zeros(nA)\n",
    "                C[state] = np.zeros(nA)\n",
    "\n",
    "            C[state][action] += W\n",
    "            Q[state][action] += (W/C[state][action])*(G - Q[state][action])\n",
    "\n",
    "            pol = np.argmax(Q[state])\n",
    "\n",
    "            if pol != action:\n",
    "                break\n",
    "\n",
    "            W += W*(1/(1/nA))\n",
    "        policy = dict((k,np.argmax(v)) for k, v in Q.items())\n",
    "        rewards = off_policy_implementation(Q, policy, 5)\n",
    "        rewards_mean = np.array(rewards).mean()\n",
    "        avg += (1/(i+1))*(rewards_mean - avg)\n",
    "        rewards_list.append(avg)\n",
    "    \n",
    "    return policy, Q, rewards_list"
   ]
  },
  {
   "cell_type": "code",
   "execution_count": 9,
   "metadata": {
    "colab": {
     "base_uri": "https://localhost:8080/"
    },
    "id": "Nq-vVGzIjM8A",
    "outputId": "05c13dbe-8a6d-4c7d-db3c-8bb535ae80a2"
   },
   "outputs": [
    {
     "name": "stdout",
     "output_type": "stream",
     "text": [
      "Episode 500000/500000."
     ]
    }
   ],
   "source": [
    "policy, Q, ori_rewards = mc_control(env, 500000, 0.015)"
   ]
  },
  {
   "cell_type": "code",
   "execution_count": 10,
   "metadata": {
    "colab": {
     "base_uri": "https://localhost:8080/"
    },
    "id": "2y-KLphH8xIN",
    "outputId": "6866ef66-af0a-42a5-e660-02fac9262e1b"
   },
   "outputs": [
    {
     "name": "stdout",
     "output_type": "stream",
     "text": [
      "Episode 499000/500000."
     ]
    }
   ],
   "source": [
    "policy, Q, rewards_off_policy = mc_control_off_policy(env, 500000)"
   ]
  },
  {
   "cell_type": "code",
   "execution_count": 11,
   "metadata": {
    "colab": {
     "base_uri": "https://localhost:8080/",
     "height": 264
    },
    "id": "vWnT2Mv9edgB",
    "outputId": "ed9e6234-80c3-4fc1-c067-3f9d32c3c0b5"
   },
   "outputs": [
    {
     "data": {
      "image/png": "[encoded data removed]",
      "text/plain": [
       "<Figure size 432x288 with 1 Axes>"
      ]
     },
     "metadata": {
      "needs_background": "light",
      "tags": []
     },
     "output_type": "display_data"
    }
   ],
   "source": [
    "import matplotlib.pyplot as plt\n",
    "plt.plot(rewards_off_policy, label = 'Off Policy')\n",
    "plt.plot(ori_rewards, label = 'Original')\n",
    "plt.legend()\n",
    "plt.show()"
   ]
  }
 ],
 "metadata": {
  "colab": {
   "collapsed_sections": [],
   "name": "4-2P.ipynb",
   "provenance": []
  },
  "kernelspec": {
   "display_name": "Python 3",
   "language": "python",
   "name": "python3"
  },
  "language_info": {
   "codemirror_mode": {
    "name": "ipython",
    "version": 3
   },
   "file_extension": ".py",
   "mimetype": "text/x-python",
   "name": "python",
   "nbconvert_exporter": "python",
   "pygments_lexer": "ipython3",
   "version": "3.7.10"
  }
 },
 "nbformat": 4,
 "nbformat_minor": 1
}
